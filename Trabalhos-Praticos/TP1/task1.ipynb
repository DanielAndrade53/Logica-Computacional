{
 "cells": [
  {
   "cell_type": "markdown",
   "id": "4f40d086c5d57151",
   "metadata": {},
   "source": [
    "# TP1\n",
    "\n",
    "Daniel Francisco Texeira Andrade - A100057\n",
    "\n",
    "Pedro André Ferreira Malainho - A100050\n",
    "\n",
    "----\n",
    "\n",
    "# Problema 1"
   ]
  },
  {
   "cell_type": "markdown",
   "id": "2dcecec39df34406",
   "metadata": {},
   "source": [
    "## Enunciado\n",
    "\n",
    "----\n",
    "\n",
    "&nbsp; &nbsp; Pretende-se construir um horário semanal para o plano de reuniões de projeto de uma \"StartUp\" de acordo com as seguintes condições:\n",
    "\n",
    "&nbsp; &nbsp; &nbsp; &nbsp; a. Cada reunião ocupa uma sala (enumeradas **1...S**) durante um \"slot\" (tempo, dia). Assume-se os dias enumerado *1..D* e, em cada dia, os tempos enumerados **1..T**.\n",
    "\n",
    "&nbsp; &nbsp; &nbsp; &nbsp; b. Cada reunião tem associado um projeto (enumerados **1..P**) e um conjunto de participantes. Os diferentes colaboradores são enumerados **1..C**.\n",
    "\n",
    "&nbsp; &nbsp; &nbsp; &nbsp; c. Cada projeto tem associado um conjunto de colaboradores, dos quais um é o líder. Cada projeto realiza um dado número de reuniões semanais. São \"inputs\" do problema o conjunto de colaboradores de cada projeto, o seu líder e o númer de reuniões semanais.\n",
    "\n",
    "&nbsp; &nbsp; &nbsp; &nbsp; d. O líder do projeto participa em todas as reuniões do seu projeto; os restantes colaboradores podem ou não participar consoante a sua disponibilidade, num mínimo (\"quorum\") de 50% do total de colaboradores do projeto. A disponibilidade de cada participante, incluindo o líder, é um conjunto de \"slots\" (\"inputs\" do problema)."
   ]
  },
  {
   "cell_type": "markdown",
   "id": "7804f8eacfd8369a",
   "metadata": {},
   "source": [
    "## Imports\n",
    "\n",
    "----"
   ]
  },
  {
   "cell_type": "code",
   "id": "9fb16e91ff4c4bb7",
   "metadata": {
    "ExecuteTime": {
     "end_time": "2024-10-09T13:26:53.697665Z",
     "start_time": "2024-10-09T13:26:49.520273Z"
    }
   },
   "source": [
    "!pip install tabulate"
   ],
   "outputs": [
    {
     "name": "stdout",
     "output_type": "stream",
     "text": [
      "Requirement already satisfied: tabulate in c:\\python312\\lib\\site-packages (0.9.0)\n"
     ]
    }
   ],
   "execution_count": 1
  },
  {
   "metadata": {
    "ExecuteTime": {
     "end_time": "2024-10-09T13:26:56.896716Z",
     "start_time": "2024-10-09T13:26:53.875289Z"
    }
   },
   "cell_type": "code",
   "source": "!pip install ortools",
   "id": "764ca0c2bbfb2e92",
   "outputs": [
    {
     "name": "stdout",
     "output_type": "stream",
     "text": [
      "Requirement already satisfied: ortools in c:\\python312\\lib\\site-packages (9.10.4067)\n",
      "Requirement already satisfied: absl-py>=2.0.0 in c:\\python312\\lib\\site-packages (from ortools) (2.1.0)\n",
      "Requirement already satisfied: numpy>=1.13.3 in c:\\python312\\lib\\site-packages (from ortools) (2.1.1)\n",
      "Requirement already satisfied: pandas>=2.0.0 in c:\\python312\\lib\\site-packages (from ortools) (2.2.2)\n",
      "Requirement already satisfied: protobuf>=5.26.1 in c:\\python312\\lib\\site-packages (from ortools) (5.28.0)\n",
      "Requirement already satisfied: immutabledict>=3.0.0 in c:\\python312\\lib\\site-packages (from ortools) (4.2.0)\n",
      "Requirement already satisfied: python-dateutil>=2.8.2 in c:\\python312\\lib\\site-packages (from pandas>=2.0.0->ortools) (2.9.0.post0)\n",
      "Requirement already satisfied: pytz>=2020.1 in c:\\python312\\lib\\site-packages (from pandas>=2.0.0->ortools) (2024.1)\n",
      "Requirement already satisfied: tzdata>=2022.7 in c:\\python312\\lib\\site-packages (from pandas>=2.0.0->ortools) (2024.1)\n",
      "Requirement already satisfied: six>=1.5 in c:\\python312\\lib\\site-packages (from python-dateutil>=2.8.2->pandas>=2.0.0->ortools) (1.16.0)\n"
     ]
    }
   ],
   "execution_count": 2
  },
  {
   "cell_type": "code",
   "id": "dcef8938dfc3a4a9",
   "metadata": {
    "ExecuteTime": {
     "end_time": "2024-10-09T13:26:57.577100Z",
     "start_time": "2024-10-09T13:26:57.459686Z"
    }
   },
   "source": [
    "from random import randint\n",
    "from tabulate import tabulate\n",
    "from ortools.linear_solver import pywraplp"
   ],
   "outputs": [],
   "execution_count": 3
  },
  {
   "cell_type": "markdown",
   "id": "b8afa8285fac168b",
   "metadata": {},
   "source": [
    "## Variáveis do Programa\n",
    "  \n",
    "----\n",
    "\n",
    "* `num_rooms` - Number of Meeting Rooms (NR)\n",
    "\n",
    "* `time_slots` - List of Slots $\\rightarrow$ Pair ou 2-Tuple (day, time) (SL)\n",
    "\n",
    "* `num_projects` - Number of Projects (NP)\n",
    "\n",
    "* `num_collaborators` - Number of Collaborators (NC)\n",
    "\n",
    "* `project_collaborators` - Dictionary where keys are project IDs and values are lists of collaborator IDs associated with those projects (PC)\n",
    "\n",
    "* `project_leaders` - Dictionary where keys are project IDs and values are the IDs of the leaders of those projects (PL)\n",
    "\n",
    "* `collaborator_projects` - Dictionary where keys are collaborator IDs and values are lists of project IDs to which the collaborator is associated\n",
    "\n",
    "* `min_weekly_meetings` - Minimum number of weekly meetings required for each project"
   ]
  },
  {
   "cell_type": "markdown",
   "id": "9db39bcdd77b4ec7",
   "metadata": {},
   "source": [
    "## Implementação\n",
    "\n",
    "----"
   ]
  },
  {
   "metadata": {},
   "cell_type": "markdown",
   "source": [
    "### Generate_Slots function\n",
    "\n",
    "----\n",
    "\n",
    "Generate a list of time slots for a given number of days and time range.\n",
    "\n",
    "This function creates a list of tuples representing time slots. Each tuple consists of a day index and an hour of the day.\n",
    "\n",
    "Parameters:\n",
    "\n",
    "- `days` - The number of days to generate time slots for. Must be a non-negative integer.\n",
    "- `h_min` - The minimum hour for the time slots. Must be a non-negative integer.\n",
    "- `h_max` - The maximum hour for the time slots. Must be greater than `h_min`.\n",
    "\n",
    "Raises ValueError:\n",
    " \n",
    "- If `days` is negative, `h_min` is negative, `h_max` is less than or equal to `h_min`, or `h_max` is negative.\n",
    "\n",
    "Returns: \n",
    "\n",
    "- A list of tuples, where each tuple represents a time slot."
   ],
   "id": "996a8ab23043713d"
  },
  {
   "cell_type": "code",
   "id": "b66c1de1417666a7",
   "metadata": {
    "ExecuteTime": {
     "end_time": "2024-10-09T13:26:57.625757Z",
     "start_time": "2024-10-09T13:26:57.617282Z"
    }
   },
   "source": [
    "def generate_slots(days, h_min, h_max):\n",
    "    if days < 0:\n",
    "        raise ValueError(\"The number of days must be a non-negative integer.\")\n",
    "    if h_min < 0:\n",
    "        raise ValueError(\"The minimum hour (h_min) must be a non-negative integer.\")\n",
    "    if h_max <= h_min:\n",
    "        raise ValueError(\"The maximum hour (h_max) must be greater than the minimum hour (h_min).\")\n",
    "\n",
    "    slots = []\n",
    "    for day in range(days):\n",
    "        for hour in range(h_min, h_max):\n",
    "            slots.append((day,hour))\n",
    "\n",
    "    return slots"
   ],
   "outputs": [],
   "execution_count": 4
  },
  {
   "metadata": {},
   "cell_type": "markdown",
   "source": [
    "### Generate_Availability function\n",
    "\n",
    "----\n",
    "\n",
    "Generate a random availability dictionary for a given number of collaborators and time slots.\n",
    "\n",
    "This function creates a dictionary where each key represents a collaborator, and each value is another dictionary that maps each time slot to a randomly assigned availability value (0 or 1). A value of 1 indicates availability and 0 indicates unavailability.\n",
    "\n",
    "Parameters:\n",
    "\n",
    "- `C` - The number of collaborators. Must be a non-negative integer.\n",
    "- `SL` - A list of time slots, where each slot is represented as a tuple containing a day and an hour. Where `day` is a non-negative integer representing the day index and `hour` is a non-negative integer representing the hour of the day.\n",
    "\n",
    "Raises ValueError: \n",
    "\n",
    "- If `C` is negative or if `SL` is not a list of tuples with exactly two elements each.\n",
    "\n",
    "Returns:\n",
    " \n",
    "- A dictionary where each key is an integer representing a collaborator index, and each value is a dictionary mapping time slot tuples to availability values (0 or 1)."
   ],
   "id": "87475f8d9a60bca8"
  },
  {
   "cell_type": "code",
   "id": "1a2ee166f59fabef",
   "metadata": {
    "ExecuteTime": {
     "end_time": "2024-10-09T13:26:57.672624Z",
     "start_time": "2024-10-09T13:26:57.663927Z"
    }
   },
   "source": [
    "def generate_availability(C, SL):\n",
    "    if C < 0:\n",
    "        raise ValueError(\"Number of collaborators (c) must be a non-negative integer.\")\n",
    "\n",
    "    if not isinstance(SL, list) or not all(isinstance(slot, tuple) and len(slot) == 2 for slot in SL):\n",
    "        raise ValueError(\n",
    "            \"Slots (sl) must be a list of tuples, each containing exactly two elements: a day and an hour.\")\n",
    "\n",
    "    availability = {}\n",
    "\n",
    "    for it in range(C):\n",
    "        availability[it] = {}\n",
    "        for slot in SL:\n",
    "            availability[it][slot] = randint(0, 1)  # Generates 0 or 1\n",
    "\n",
    "    return availability"
   ],
   "outputs": [],
   "execution_count": 5
  },
  {
   "metadata": {},
   "cell_type": "markdown",
   "source": [
    "### Is_Collaborator_In_Project function\n",
    "\n",
    "----\n",
    "\n",
    "Determine the involvement of collaborators in various projects.\n",
    "\n",
    "This function creates a dictionary that maps each collaborator to their involvement in various projects. Each key in the dictionary represents a collaborator, and the associated value is another dictionary that indicates whether the collaborator is involved in each project.\n",
    "\n",
    "Parameters:\n",
    "\n",
    "- `C`- The number of collaborators. Must be a non-negative integer. Collaborators are indexed from 0 to C-1.\n",
    "- `PC` - A dictionary where the keys are project identifiers and the values are lists of collaborator indices involved in those projects. Project identifiers can be of any hashable type (e.g., strings, integers).\n",
    "\n",
    "Raises ValueError: \n",
    "\n",
    "- If `C` is negative.\n",
    "\n",
    "Returns: \n",
    "\n",
    "- A dictionary where each key is a collaborator index, and each value is another dictionary with project identifiers as keys and binary values (1 or 0) indicating the collaborator's involvement in that project. A value of 1 indicates involvement, and 0 indicates no involvement."
   ],
   "id": "b4f21d6050d655f7"
  },
  {
   "cell_type": "code",
   "id": "290c7b3bc0c9b19",
   "metadata": {
    "ExecuteTime": {
     "end_time": "2024-10-09T13:26:57.696810Z",
     "start_time": "2024-10-09T13:26:57.690699Z"
    }
   },
   "source": [
    "def is_collaborator_in_project(PC, C):\n",
    "    if C < 0:\n",
    "        raise ValueError(\"Number of collaborators (c) must be a non-negative integer.\")\n",
    "\n",
    "    collaborators_in_projects = {}\n",
    "\n",
    "    for collaborator_id in range(C):\n",
    "        collaborators_in_projects[collaborator_id] = {}\n",
    "        for project_id, collaborators in PC.items():\n",
    "            collaborators_in_projects[collaborator_id][project_id] = 1 if collaborator_id in collaborators else 0\n",
    "\n",
    "    return collaborators_in_projects\n"
   ],
   "outputs": [],
   "execution_count": 6
  },
  {
   "metadata": {},
   "cell_type": "markdown",
   "source": [
    "### Print_Table function\n",
    "\n",
    "----\n",
    "\n",
    "This function is designed to create and display a tabular representation of certain scheduling or assignment data. It uses the tabulate module to format and print the table.\n",
    "\n",
    "Parameters: \n",
    "\n",
    "- `h_Min`- The minimum time slot or index for hours.\n",
    "- `h_Max`- The maximum time slot or index for hours.\n",
    "- `days`- Maximum of days\n",
    "- `A` - The matrix representing the allocation of meetings.\n",
    "- `M`- The matrix representing the allocation of collaborators to meetings."
   ],
   "id": "b06041bd04279081"
  },
  {
   "metadata": {
    "ExecuteTime": {
     "end_time": "2024-10-09T13:26:57.718296Z",
     "start_time": "2024-10-09T13:26:57.709734Z"
    }
   },
   "cell_type": "code",
   "source": [
    "def print_table(h_min, h_max, d_max, A, R, P, S, C):\n",
    "    if h_min < 0:\n",
    "        raise ValueError(\"Minimum hour must be a non-negative integer.\")\n",
    "    if h_max <= h_min:\n",
    "        raise ValueError(\"Maximum hour must be greater than minimum hour.\")\n",
    "    if d_max < 0:\n",
    "        raise ValueError(\"Number of days must be non-negative.\")\n",
    "\n",
    "    headers = [\"Slots\"] + [f\"Day {day}\" for day in range(d_max)]\n",
    "    table = [] \n",
    "\n",
    "    for hour in range(h_min, h_max):\n",
    "        row = [f\"{hour:02d}:00\"]\n",
    "        for day in range(d_max):\n",
    "            cell_content = \"\"\n",
    "            for proj in range(P):\n",
    "                for slot in range(S):\n",
    "                    if int(A[proj][slot][(day, hour)].solution_value()) == 1:\n",
    "                        proj_slot_info = f\"Proj {proj} - S {slot}: \"\n",
    "                        col_info = \" \".join(str(c) for c in range(C) if int(R[c][proj][slot][(day, hour)].solution_value()) == 1)\n",
    "                        cell_content += proj_slot_info + col_info + \"\\n\"\n",
    "            row.append(cell_content.strip() if cell_content else \"\")\n",
    "        table.append(row)\n",
    "\n",
    "    print(tabulate(table, headers=headers, tablefmt='rounded_grid'))"
   ],
   "id": "144094b566e0ec23",
   "outputs": [],
   "execution_count": 7
  },
  {
   "metadata": {},
   "cell_type": "markdown",
   "source": [
    "## Restrictions\n",
    "\n",
    "----"
   ],
   "id": "efe88754dffc1f6b"
  },
  {
   "metadata": {},
   "cell_type": "markdown",
   "source": [
    "- The **matrix A** is used to allocate project meetings *p* in rooms *nr* in slot *sl*, we then have:\n",
    "$$\n",
    "\\forall_{p<NP} \\; \\forall_{nr<NR} \\; \\forall_{sl<SL} \\; A_{p,nr,sl} = 1  \n",
    "$$ \n",
    "only if there is a meeting *p* in room *nr* in slot *sl*.\n",
    "\n",
    "- The **matrix R** is used to allocate collaborators to meetings, so we have:\n",
    "$$\n",
    "\\forall_{c<NC} \\; \\forall_{p<NP} \\; \\forall_{nr<NR} \\; \\forall_{sl<Sl} \\; R_{x,p,nr,sl}=1\n",
    "$$\n",
    "only if a collaborator has a project meeting *p* in room *nr* in slot *sl*.\n",
    "\n",
    "---- \n",
    "\n",
    "**1. Each project has X or more weekly meetings** \n",
    "$$\n",
    "\\forall_{p\\lt NP} \\; \\sum_{nr \\lt NR, sl\\in SL} \\; A_{p,nr,sl} \\;  \\geq \\;  X\n",
    "$$\n",
    "\n",
    "- With this restriction we guarantee that a project *NP* has at least X weekly meetings.\n",
    "\n",
    "**2. A collaborator can only be assigned to a meeting if it has been scheduled** \n",
    "$$\n",
    "\\forall_{sl\\lt SL} \\; \\forall_{nr\\lt NR} \\; \\forall_{p\\lt NP} \\; \\forall_{c\\in NC} \\; R_{c,p,nr,sl} \\; \\leq \\; A_{p,nr,sl}\n",
    "$$\n",
    "\n",
    "- With this restriction we guarantee that a collaborator *NC* will only be assigned to a meeting in a slot *SL*, in a room *NR*, in a project *NP* if the meeting has been scheduled.\n",
    "\n",
    "**3. Collaborator availability** \n",
    "$$\n",
    "\\forall_{c\\lt NC} \\; \\forall_{p\\lt NP} \\; \\forall_{nr\\lt NR} \\; \\forall_{sl\\in SL} \\; R_{c,p,nr,sl} \\; \\leq \\; disp_{c,sl}\n",
    "$$\n",
    "\n",
    "- With this restriction we ensure that only one meeting is allocated to one collaborator *NC*, in one project *NP*, in a room *NR*, in a slot *SL* if the collaborator *NC* is available.\n",
    "\n",
    "**4. The collaborator can only go to the meeting if they have been allocated to the project** \n",
    "$$\n",
    "\\forall_{p\\lt NP} \\; \\forall_{c\\lt NC} \\; \\forall_{nr\\lt NR} \\; \\forall_{sl\\in SL} \\; R_{c,p,nr,sl} \\; \\geq \\; A_{p,nr,sl} \\; \\times \\;  collaboratorProjects_{c,p}\n",
    "$$\n",
    "\n",
    "-  With this restriction, we guarantee that a collaborator *NC* will only be assigned to a meeting in a project *NP*, a room *NR* or a slot *SL* if they are assigned to the corresponding project.\n",
    "\n",
    "**5. There can be no more than one meeting in a room in a slot** \n",
    "$$ \n",
    "\\forall_{nr\\lt NR} \\; \\forall_{sl\\in SL} \\; \\sum_{p\\lt NP} \\; A_{p,nr,sl} \\; \\lt \\; 1\n",
    "$$\n",
    "\n",
    "- With this restriction we guarantee that in a room *NR*, in a slot *SL*, only one meeting is allocated or not.\n",
    "\n",
    "**6. A collaborator cannot attend two meetings at the same time** \n",
    "$$\n",
    "\\forall_{c\\lt NC,sl\\in SL} \\; \\sum_{nr\\lt NR,p\\lt NP} \\; R_{c,p,nr,sl} \\; \\leq \\;  1\n",
    "$$\n",
    "\n",
    "- With this restriction we guarantee that for any given collaborator *C*, in a given slot *SL*, they are not allocated to more than one room *NR*, in any given project *NP*.\n",
    "\n",
    "**7. Attendance at each meeting must be above 50%** \n",
    "$$\n",
    "\\forall_{p\\lt NP, nr\\lt NR, sl\\in SL} \\; \\frac{\\sum_{c\\lt NC} \\; R_{c,p,nr,sl}}{len(PC_p)}\n",
    "$$\n",
    "\n",
    "- PC gives us the list of project collaborators P \n",
    "- With this restriction we guarantee that for any project *NP*, in a room *NR*, in a slot *SL*, attendance is at least 50% compared to the number of collaborators *NC* in the project.\n",
    "\n",
    "**8. The leader has to go to all the meetings of the project he or she is leading** \n",
    "$$\n",
    "\\forall_{p\\lt NP, nr\\lt NR,sl\\in SL} \\; R_{PL_{p},p,nr,sl} \\; = \\; A_{p,nr,sl}\n",
    "$$\n",
    "\n",
    "- With this restriction we ensure that any project leader has to be present at all project *NP* meetings in one room *NR*, in one slot *SL*.\n",
    "\n",
    "----\n",
    "\n",
    "**Minimize the average number of meetings per collaborator**\n",
    "\n",
    "- To minimize the average number of meetings per participant, we minimize the sum of the meetings allocated to collaborators in the R matrix.\n",
    "$$\n",
    "\\forall_{c\\lt NC} \\; minimize \\; \\sum_{p\\lt NP,nr\\lt NR,sl\\in SL} \\; R_{c,p,nr,sl}\n",
    "$$\n",
    "\n",
    "**Maximize the number of meetings held**\n",
    "\n",
    "- To maximize the number of meetings held, we maximize the sum of all the meetings allocated in the meeting allocation matrix.\n",
    "$$\n",
    "maximize \\; \\sum_{p\\lt NP, nr\\lt NR, sl\\in SL} \\; A_{p,nr,sl}\n",
    "$$\n",
    "\n"
   ],
   "id": "989ddb34a21cac8d"
  },
  {
   "metadata": {
    "ExecuteTime": {
     "end_time": "2024-10-09T13:26:57.741529Z",
     "start_time": "2024-10-09T13:26:57.730847Z"
    }
   },
   "cell_type": "code",
   "source": [
    "def schedule(NR, NP, NC, SL, PC,PL, collaborator_projects, min_weekly_meetings, disp):\n",
    "    \n",
    "    # Meeting Allocation matrix \n",
    "    A = {}\n",
    "    for p in range(NP):\n",
    "        A[p] = {}\n",
    "        for nr in range(NR):\n",
    "            A[p][nr] = {}\n",
    "            for sl in SL:\n",
    "                A[p][nr][sl] = solver.BoolVar(f'A[{p}],[{nr}],[{sl}]')\n",
    "    \n",
    "    \n",
    "    # Employee allocation matrix for a meeting\n",
    "    R = {}\n",
    "    for c in range(NC):\n",
    "        R[c] = {}\n",
    "        for p in range(NP):\n",
    "            R[c][p] = {}\n",
    "            for nr in range(NR):\n",
    "                R[c][p][nr] = {}\n",
    "                for sl in SL:\n",
    "                    R[c][p][nr][sl] = solver.BoolVar(f'R[{c},{p},{nr},{sl}]')\n",
    "    \n",
    "    # 1 - Each project has X or more weekly meetings\n",
    "    for p in range(NP):\n",
    "        solver.Add( sum(A[p][nr][sl] for nr in range(NR) for sl in SL) >= min_weekly_meetings)\n",
    "        \n",
    "    # 2 - A collaborator can only be assigned to a meeting if it has been scheduled \n",
    "    for sl in SL:\n",
    "        for nr in range(NR):\n",
    "            for p in range(NP):\n",
    "                for c in range(NC):\n",
    "                    solver.Add( R[c][p][nr][sl] <= A[p][nr][sl])\n",
    "        \n",
    "    # 3 - Collaborator availability\n",
    "    for c in range(NC):\n",
    "        for p in range(NP):\n",
    "            for nr in range(NR):\n",
    "                for sl in SL:\n",
    "                    solver.Add( R[c][p][nr][sl] <= disp[c][sl])\n",
    "    \n",
    "    # 4 - The collaborator can only go to the meeting if they have been allocated to the project\n",
    "    for p in range(NP):\n",
    "        for c in range(NC):\n",
    "            for nr in range(NR):\n",
    "                for sl in SL:\n",
    "                    solver.Add( R[c][p][nr][sl] <= A[p][nr][sl] * collaborator_projects[c][p])\n",
    "         \n",
    "    # 5 - There can be no more than one meeting in a room in a slot\n",
    "    for nr in range(NR):\n",
    "        for sl in SL:\n",
    "            solver.Add( (sum(A[p][nr][sl] for p in range(NP))) <= 1)\n",
    "            \n",
    "    # 6 - A collaborator cannot attend two meetings at the same time\n",
    "    for c in range(NC):\n",
    "        for sl in SL:\n",
    "            solver.Add( (sum(R[c][p][nr][sl] for nr in range(NR) for p in range(NP))) <= 1)\n",
    "   \n",
    "    # 7 - Attendance at each meeting must be above 50%\n",
    "    for p in range(NP):\n",
    "        for nr in range(NR):\n",
    "            for sl in SL:\n",
    "                solver.Add ( (sum(R[c][p][nr][sl] for c in range(NC)) / len(PC[p])) >= 0.5*R[PL[p]][p][nr][sl])\n",
    "                    \n",
    "    # 8 - The leader has to go to all the meetings of the project he or she is leading\n",
    "    for p in range(NP):\n",
    "        for nr in range(NR):\n",
    "            for sl in SL:\n",
    "                solver.Add( R[PL[p]][p][nr][sl] == A[p][nr][sl] )\n",
    "            \n",
    "    # Minimize the average number of meetings per collaborator\n",
    "    for c in range(NC):\n",
    "        solver.Minimize(sum(R[c][p][nr][sl] for p in range(NP) for nr in range(NR) for sl in SL))\n",
    "    \n",
    "    # Maximize the number of meetings held\n",
    "    solver.Maximize( sum(A[p][nr][sl] for p in range(NP) for nr in range(NR) for sl in SL) )\n",
    "\n",
    "    status = solver.Solve()\n",
    "    \n",
    "    if status == pywraplp.Solver.OPTIMAL:\n",
    "        print_table(SL[0][1], SL[-1][1] +1, 5, A, R, NP, NR, NC)\n",
    "    else:\n",
    "        print(\"No solution found\")"
   ],
   "id": "ab1fec2869adca4f",
   "outputs": [],
   "execution_count": 8
  },
  {
   "metadata": {},
   "cell_type": "markdown",
   "source": [
    "## Examples\n",
    "\n",
    "----"
   ],
   "id": "892c66bfdc8502ff"
  },
  {
   "metadata": {},
   "cell_type": "markdown",
   "source": "### Example 1",
   "id": "4692a9b441fe0540"
  },
  {
   "metadata": {
    "ExecuteTime": {
     "end_time": "2024-10-09T13:26:57.868220Z",
     "start_time": "2024-10-09T13:26:57.748042Z"
    }
   },
   "cell_type": "code",
   "source": [
    "solver = pywraplp.Solver.CreateSolver('SCIP')\n",
    "\n",
    "# Number of rooms\n",
    "NR = 2\n",
    "\n",
    "# Number of projects\n",
    "NP = 2\n",
    "\n",
    "# Number of collaborators\n",
    "NC = 4\n",
    "\n",
    "# Dictionary mapping project IDs to lists of collaborator IDs\n",
    "project_collaborators = {\n",
    "    0: [0,1,3],\n",
    "    1: [0,2,3]\n",
    "}\n",
    "\n",
    "# Dictionary mapping project IDs to the ID of the project leader\n",
    "project_leaders = {\n",
    "      0: 1,\n",
    "      1: 2\n",
    "}\n",
    "\n",
    "# Generate time slots (days, hours)\n",
    "SL = generate_slots(5, 9, 17)\n",
    "\n",
    "# Generate availability for each collaborator\n",
    "availability = generate_availability(NC,SL)\n",
    "\n",
    "# Generate a dictionary mapping collaborator IDs to lists of project IDs they are associated with\n",
    "collaborator_projects = is_collaborator_in_project(project_collaborators, NC)\n",
    "\n",
    "# Minimum number of weekly meetings required for each project\n",
    "min_weekly_meetings = 5\n",
    "\n",
    "# Scheduling function call\n",
    "schedule(NR, NP, NC, SL, project_collaborators,project_leaders, collaborator_projects, min_weekly_meetings, availability)\n"
   ],
   "id": "5ef6e9817d86fe61",
   "outputs": [
    {
     "name": "stdout",
     "output_type": "stream",
     "text": [
      "╭─────────┬───────────────────┬───────────────────┬───────────────────┬───────────────────┬───────────────────╮\n",
      "│ Slots   │ Day 0             │ Day 1             │ Day 2             │ Day 3             │ Day 4             │\n",
      "├─────────┼───────────────────┼───────────────────┼───────────────────┼───────────────────┼───────────────────┤\n",
      "│ 09:00   │ Proj 1 - S 0: 2 3 │                   │                   │ Proj 1 - S 0: 2 3 │                   │\n",
      "├─────────┼───────────────────┼───────────────────┼───────────────────┼───────────────────┼───────────────────┤\n",
      "│ 10:00   │ Proj 0 - S 0: 1 3 │ Proj 1 - S 0: 0 2 │ Proj 1 - S 0: 0 2 │ Proj 0 - S 0: 0 1 │                   │\n",
      "├─────────┼───────────────────┼───────────────────┼───────────────────┼───────────────────┼───────────────────┤\n",
      "│ 11:00   │                   │                   │ Proj 0 - S 0: 1 3 │                   │                   │\n",
      "├─────────┼───────────────────┼───────────────────┼───────────────────┼───────────────────┼───────────────────┤\n",
      "│ 12:00   │                   │ Proj 0 - S 0: 1 3 │                   │                   │ Proj 1 - S 0: 0 2 │\n",
      "│         │                   │ Proj 1 - S 1: 0 2 │                   │                   │                   │\n",
      "├─────────┼───────────────────┼───────────────────┼───────────────────┼───────────────────┼───────────────────┤\n",
      "│ 13:00   │                   │                   │ Proj 0 - S 0: 1 3 │ Proj 1 - S 0: 2 3 │ Proj 1 - S 0: 0 2 │\n",
      "│         │                   │                   │ Proj 1 - S 1: 0 2 │                   │                   │\n",
      "├─────────┼───────────────────┼───────────────────┼───────────────────┼───────────────────┼───────────────────┤\n",
      "│ 14:00   │ Proj 1 - S 0: 2 3 │ Proj 0 - S 0: 1 3 │                   │                   │                   │\n",
      "│         │                   │ Proj 1 - S 1: 0 2 │                   │                   │                   │\n",
      "├─────────┼───────────────────┼───────────────────┼───────────────────┼───────────────────┼───────────────────┤\n",
      "│ 15:00   │ Proj 0 - S 0: 1 3 │ Proj 0 - S 0: 1 3 │                   │ Proj 0 - S 0: 1 3 │ Proj 1 - S 0: 0 2 │\n",
      "│         │ Proj 1 - S 1: 0 2 │                   │                   │ Proj 1 - S 1: 0 2 │                   │\n",
      "├─────────┼───────────────────┼───────────────────┼───────────────────┼───────────────────┼───────────────────┤\n",
      "│ 16:00   │                   │ Proj 1 - S 0: 2 3 │ Proj 0 - S 0: 1 3 │ Proj 1 - S 0: 0 2 │ Proj 1 - S 0: 2 3 │\n",
      "╰─────────┴───────────────────┴───────────────────┴───────────────────┴───────────────────┴───────────────────╯\n"
     ]
    }
   ],
   "execution_count": 9
  },
  {
   "metadata": {},
   "cell_type": "markdown",
   "source": "### Example 2",
   "id": "2a3e3cfada0af54c"
  },
  {
   "metadata": {
    "ExecuteTime": {
     "end_time": "2024-10-09T13:26:59.213806Z",
     "start_time": "2024-10-09T13:26:57.886072Z"
    }
   },
   "cell_type": "code",
   "source": [
    "solver = pywraplp.Solver.CreateSolver('SCIP')\n",
    "\n",
    "# Number of rooms\n",
    "NR = 4\n",
    "\n",
    "# Number of projects\n",
    "NP = 5\n",
    "\n",
    "# Number of collaborators\n",
    "NC = 10\n",
    "\n",
    "# Dictionary mapping project IDs to lists of collaborator IDs\n",
    "project_collaborators = {\n",
    "    0: [0,1,2,3,6,8],\n",
    "    1: [0,1,4,5,9],\n",
    "    2: [2,3,7,8],\n",
    "    3: [4,5,6,7,9],\n",
    "    4: [1,3,4,5]\n",
    "}\n",
    "\n",
    "# Dictionary mapping project IDs to the ID of the project leader\n",
    "project_leaders = {\n",
    "      0: 1,\n",
    "      1: 4,\n",
    "      2: 2,\n",
    "      3: 5,\n",
    "      4: 3\n",
    "}\n",
    "\n",
    "# Generate time slots (days, hours)\n",
    "SL = generate_slots(5, 9, 19)\n",
    "\n",
    "# Generate availability for each collaborator\n",
    "availability = generate_availability(NC,SL)\n",
    "\n",
    "# Generate a dictionary mapping collaborator IDs to lists of project IDs they are associated with\n",
    "collaborator_projects = is_collaborator_in_project(project_collaborators, NC)\n",
    "\n",
    "# Minimum number of weekly meetings required for each project\n",
    "min_weekly_meetings = 10\n",
    "\n",
    "# Scheduling function call\n",
    "schedule(NR, NP, NC, SL, project_collaborators,project_leaders, collaborator_projects, min_weekly_meetings, availability)"
   ],
   "id": "3f628cf1127e3bd3",
   "outputs": [
    {
     "name": "stdout",
     "output_type": "stream",
     "text": [
      "╭─────────┬─────────────────────┬─────────────────────┬─────────────────────┬─────────────────────┬─────────────────────╮\n",
      "│ Slots   │ Day 0               │ Day 1               │ Day 2               │ Day 3               │ Day 4               │\n",
      "├─────────┼─────────────────────┼─────────────────────┼─────────────────────┼─────────────────────┼─────────────────────┤\n",
      "│ 09:00   │ Proj 1 - S 1: 0 1 4 │ Proj 1 - S 3: 0 4 5 │ Proj 2 - S 0: 2 7   │ Proj 1 - S 1: 4 5 9 │ Proj 0 - S 1: 0 1 2 │\n",
      "│         │ Proj 2 - S 3: 2 8   │ Proj 2 - S 1: 2 7   │ Proj 4 - S 2: 1 3   │ Proj 2 - S 0: 2 7   │ Proj 3 - S 2: 5 7 9 │\n",
      "│         │                     │ Proj 4 - S 2: 1 3   │                     │                     │                     │\n",
      "├─────────┼─────────────────────┼─────────────────────┼─────────────────────┼─────────────────────┼─────────────────────┤\n",
      "│ 10:00   │ Proj 0 - S 1: 0 1 3 │ Proj 2 - S 0: 2 7   │ Proj 0 - S 1: 0 1 6 │ Proj 4 - S 0: 3 4   │ Proj 2 - S 1: 2 7   │\n",
      "│         │                     │ Proj 4 - S 3: 1 3   │ Proj 3 - S 0: 5 7 9 │                     │ Proj 4 - S 2: 3 5   │\n",
      "├─────────┼─────────────────────┼─────────────────────┼─────────────────────┼─────────────────────┼─────────────────────┤\n",
      "│ 11:00   │                     │ Proj 4 - S 0: 3 4   │ Proj 1 - S 3: 0 4 5 │ Proj 1 - S 0: 1 4 5 │                     │\n",
      "│         │                     │                     │ Proj 2 - S 0: 2 7   │                     │                     │\n",
      "├─────────┼─────────────────────┼─────────────────────┼─────────────────────┼─────────────────────┼─────────────────────┤\n",
      "│ 12:00   │ Proj 2 - S 3: 2 7   │ Proj 1 - S 1: 0 1 4 │ Proj 2 - S 0: 2 7   │ Proj 0 - S 3: 0 1 2 │ Proj 1 - S 1: 4 5 9 │\n",
      "│         │ Proj 3 - S 0: 5 6 9 │ Proj 2 - S 3: 2 8   │                     │                     │ Proj 2 - S 0: 2 7   │\n",
      "│         │                     │ Proj 3 - S 2: 5 7 9 │                     │                     │                     │\n",
      "├─────────┼─────────────────────┼─────────────────────┼─────────────────────┼─────────────────────┼─────────────────────┤\n",
      "│ 13:00   │ Proj 2 - S 1: 2 8   │ Proj 0 - S 2: 0 1 3 │                     │ Proj 0 - S 2: 0 1 8 │ Proj 2 - S 3: 2 8   │\n",
      "│         │                     │ Proj 2 - S 0: 2 8   │                     │ Proj 2 - S 1: 2 7   │                     │\n",
      "│         │                     │ Proj 3 - S 1: 5 6 7 │                     │                     │                     │\n",
      "├─────────┼─────────────────────┼─────────────────────┼─────────────────────┼─────────────────────┼─────────────────────┤\n",
      "│ 14:00   │ Proj 2 - S 1: 2 8   │ Proj 2 - S 1: 2 3   │ Proj 2 - S 3: 2 7   │ Proj 0 - S 1: 1 6 8 │ Proj 0 - S 3: 0 1 2 │\n",
      "│         │ Proj 4 - S 3: 1 3 5 │                     │ Proj 3 - S 1: 5 6 9 │ Proj 3 - S 2: 5 7 9 │ Proj 4 - S 1: 3 4   │\n",
      "│         │                     │                     │ Proj 4 - S 2: 3 4   │                     │                     │\n",
      "├─────────┼─────────────────────┼─────────────────────┼─────────────────────┼─────────────────────┼─────────────────────┤\n",
      "│ 15:00   │ Proj 0 - S 2: 0 1 3 │ Proj 3 - S 1: 5 6 9 │ Proj 0 - S 0: 0 1 8 │                     │ Proj 1 - S 1: 4 5 9 │\n",
      "│         │ Proj 1 - S 0: 4 5 9 │                     │                     │                     │ Proj 2 - S 0: 2 8   │\n",
      "│         │ Proj 2 - S 1: 2 7   │                     │                     │                     │                     │\n",
      "├─────────┼─────────────────────┼─────────────────────┼─────────────────────┼─────────────────────┼─────────────────────┤\n",
      "│ 16:00   │                     │ Proj 4 - S 2: 1 3   │ Proj 0 - S 0: 0 1 2 │                     │                     │\n",
      "├─────────┼─────────────────────┼─────────────────────┼─────────────────────┼─────────────────────┼─────────────────────┤\n",
      "│ 17:00   │ Proj 1 - S 3: 0 4 9 │ Proj 0 - S 0: 1 6 8 │                     │                     │ Proj 1 - S 2: 0 4 9 │\n",
      "│         │ Proj 3 - S 2: 5 6 7 │ Proj 4 - S 2: 3 4   │                     │                     │ Proj 2 - S 1: 2 7   │\n",
      "│         │                     │                     │                     │                     │ Proj 4 - S 3: 1 3   │\n",
      "├─────────┼─────────────────────┼─────────────────────┼─────────────────────┼─────────────────────┼─────────────────────┤\n",
      "│ 18:00   │ Proj 4 - S 0: 3 4   │ Proj 0 - S 2: 1 3 8 │ Proj 1 - S 2: 0 1 4 │ Proj 0 - S 1: 1 2 8 │                     │\n",
      "│         │                     │ Proj 3 - S 1: 4 5 6 │                     │                     │                     │\n",
      "╰─────────┴─────────────────────┴─────────────────────┴─────────────────────┴─────────────────────┴─────────────────────╯\n"
     ]
    }
   ],
   "execution_count": 10
  },
  {
   "metadata": {},
   "cell_type": "markdown",
   "source": "### Example 3",
   "id": "dc06a5b0abf6a60"
  },
  {
   "metadata": {
    "ExecuteTime": {
     "end_time": "2024-10-09T13:27:01.484007Z",
     "start_time": "2024-10-09T13:26:59.231362Z"
    }
   },
   "cell_type": "code",
   "source": [
    "# Number of rooms\n",
    "NR = 4\n",
    "\n",
    "# Number of projects\n",
    "NP = 7\n",
    "\n",
    "# Number of collaborators\n",
    "NC = 20\n",
    "\n",
    "# Dictionary mapping project IDs to lists of collaborator IDs\n",
    "project_collaborators = {\n",
    "    0: [0,1,2,3,6,8,15,16],\n",
    "    1: [0,1,4,5,9,15,17],\n",
    "    2: [2,3,7,8,10,11,17,16],\n",
    "    3: [4,5,6,7,9,18,19],\n",
    "    4: [1,3,4,5,12,13,14],\n",
    "    5: [1,2,8,12,13],\n",
    "    6: [0,5,9,10,12,14]\n",
    "}\n",
    "\n",
    "# Dictionary mapping project IDs to the ID of the project leader\n",
    "project_leaders = {\n",
    "      0: 1,\n",
    "      1: 4,\n",
    "      2: 2,\n",
    "      3: 5,\n",
    "      4: 3,\n",
    "      5: 12,\n",
    "      6: 9\n",
    "}\n",
    "\n",
    "# Generate time slots (days, hours)\n",
    "SL = generate_slots(5, 9, 19)\n",
    "\n",
    "# Generate availability for each collaborator\n",
    "availability = generate_availability(NC,SL)\n",
    "\n",
    "# Generate a dictionary mapping collaborator IDs to lists of project IDs they are associated with\n",
    "collaborator_projects = is_collaborator_in_project(project_collaborators, NC)\n",
    "\n",
    "# Minimum number of weekly meetings required for each project\n",
    "min_weekly_meetings = 40\n",
    "\n",
    "# Scheduling function call\n",
    "schedule(NR, NP, NC, SL, project_collaborators,project_leaders, collaborator_projects, min_weekly_meetings, availability)"
   ],
   "id": "317f8b320a05c4ac",
   "outputs": [
    {
     "name": "stdout",
     "output_type": "stream",
     "text": [
      "No solution found\n"
     ]
    }
   ],
   "execution_count": 11
  },
  {
   "metadata": {
    "ExecuteTime": {
     "end_time": "2024-10-09T13:27:01.521200Z",
     "start_time": "2024-10-09T13:27:01.518086Z"
    }
   },
   "cell_type": "code",
   "source": "",
   "id": "f8862a923d934b9b",
   "outputs": [],
   "execution_count": null
  },
  {
   "metadata": {},
   "cell_type": "code",
   "outputs": [],
   "execution_count": null,
   "source": "",
   "id": "5842fbd2b7451bce"
  }
 ],
 "metadata": {
  "kernelspec": {
   "display_name": "Python 3 (ipykernel)",
   "language": "python",
   "name": "python3"
  },
  "language_info": {
   "codemirror_mode": {
    "name": "ipython",
    "version": 3
   },
   "file_extension": ".py",
   "mimetype": "text/x-python",
   "name": "python",
   "nbconvert_exporter": "python",
   "pygments_lexer": "ipython3",
   "version": "3.12.4"
  }
 },
 "nbformat": 4,
 "nbformat_minor": 5
}
