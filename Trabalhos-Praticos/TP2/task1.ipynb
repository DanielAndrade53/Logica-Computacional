{
 "cells": [
  {
   "metadata": {},
   "cell_type": "markdown",
   "source": [
    "# TP2\n",
    "\n",
    "Daniel Francisco Texeira Andrade - A100057\n",
    "\n",
    "Pedro André Ferreira Malainho - A100050\n",
    "\n",
    "----\n",
    "\n",
    "# Problema 1"
   ],
   "id": "dc8522e1317c3819"
  },
  {
   "metadata": {},
   "cell_type": "markdown",
   "source": [
    "## Enunciado\n",
    "\n",
    "----\n",
    "\n",
    "Considere a descrição da cifra A5/1 que consta no documento [+Lógica Computacional: a Cifra A5/1](https://paper.dropbox.com/doc/NwkyAeoKf0srn6MyQjWKP). Informação complementar pode ser obtida no [artigo da Wikipedia](https://en.wikipedia.org/wiki/A5/1).\n",
    "\n",
    "Pretende-se\n",
    "\n",
    "a. Definir e codificar, em Z3 e usando o tipo BitVector para modelar a informação, uma FSM que descreva o grador de chaves.\n",
    "\n",
    "b. Considere as seguintes eventuais propriedades de erro:\n",
    "\n",
    "&nbsp; &nbsp; &nbsp; &nbsp; &nbsp; &nbsp; i. ocorrência de um \"_burst_\" $0^t$ (_t_ zeros) que occorrem em $2^t$ passos ou menos\n",
    "    \n",
    "&nbsp; &nbsp; &nbsp; &nbsp; &nbsp; &nbsp; ii. ocorrência de um \"_burst_\" de tamanho _t_ que repete um \"_burst_\" anterior no mesmo output em $2^{t/2}$ passos ou menos.\n",
    "\n",
    "Tente codificar estas propriedades e verificar se são acessíveis a partir de um estado inicial aleatoriamente gerado. \n",
    "\n"
   ],
   "id": "6ce470a17de6efa6"
  },
  {
   "metadata": {},
   "cell_type": "markdown",
   "source": [
    "## Referências\n",
    "\n",
    "----\n",
    "\n",
    "- [+Wikipedia](https://en.wikipedia.org/wiki/A5/1)\n",
    "\n",
    "- [+Implementação pedagógica de uma cifra A5/1 (Linguagem: C)](https://web.archive.org/web/20181008224515/http://www.scard.org/gsm/a51.html)"
   ],
   "id": "4362960b28ee0ced"
  },
  {
   "metadata": {},
   "cell_type": "markdown",
   "source": [
    "## Importes\n",
    "\n",
    "----"
   ],
   "id": "b9fd8931632a2ba2"
  },
  {
   "metadata": {
    "ExecuteTime": {
     "end_time": "2024-11-05T18:13:13.954310Z",
     "start_time": "2024-11-05T18:13:13.892029Z"
    }
   },
   "cell_type": "code",
   "source": [
    "from z3 import *\n",
    "from random import randint\n",
    "from pysmt.shortcuts import *"
   ],
   "id": "1ee0e5f0fdb89c54",
   "outputs": [],
   "execution_count": 1
  },
  {
   "metadata": {},
   "cell_type": "markdown",
   "source": [
    "## Implementação\n",
    "\n",
    "----"
   ],
   "id": "a82b65d97b3a4623"
  },
  {
   "metadata": {},
   "cell_type": "markdown",
   "source": [
    "## Declare_State Function\n",
    "\n",
    "----\n",
    "\n",
    "This function declares symbolic representations of three Linear Feedback Shift Registers (LFSRs) for a given time step \\(i\\). Each LFSR has a distinct bit width, and the function returns a dictionary with symbolic variables representing the state of each LFSR at that time step.\n",
    "\n",
    "`Parameters:` \n",
    "- `i`: An integer representing the current time step.\n",
    "\n",
    "`Returns:` A dictionary containing:\n",
    "  - `'lfsr0'`: A `BitVec` representing the first LFSR state at step \\(i\\), with bit width `R0MASK`.\n",
    "  - `'lfsr1'`: A `BitVec` representing the second LFSR state at step \\(i\\), with bit width `R1MASK`.\n",
    "  - `'lfsr2'`: A `BitVec` representing the third LFSR state at step \\(i\\), with bit width `R2MASK`.\n",
    "\n",
    "## Get_Output Function\n",
    "\n",
    "----\n",
    "\n",
    "This function calculates the output bit for a given LFSR state dictionary by extracting the most significant bit (MSB) from each LFSR. It then computes the XOR of these bits to produce a single output bit.\n",
    "\n",
    "`Parameters:` \n",
    "- `state`: A dictionary containing the current state of the LFSRs, where keys `'lfsr0'`, `'lfsr1'`, and `'lfsr2'` correspond to each LFSR’s current state as a `BitVec`.\n",
    "\n",
    "`Returns:` A logical expression representing the XOR of the MSB from each LFSR, giving the overall output bit for the given state.\n",
    "\n",
    "## Transition Function\n",
    "\n",
    "----\n",
    "\n",
    "This function defines the transition conditions between two consecutive LFSR states, `curr` (current state) and `nxt` (next state). It calculates the control bits for each LFSR, determines the majority bit from these control bits, and applies conditions that each LFSR should transition to its next state if its control bit matches the majority bit. Each LFSR transition depends on a bitwise shift and an XOR operation with the respective `S0`, `S1`, or `S2` initialization values.\n",
    "\n",
    "`Parameters:`  \n",
    "- `curr`: A dictionary representing the current state of the LFSRs.\n",
    "- `nxt`: A dictionary representing the next state of the LFSRs.\n",
    "\n",
    "`Returns:` A logical `Or` expression representing the allowed transitions based on the majority bit condition. At least two LFSRs must transition at each step, and the function enforces valid transitions for each register by checking that the control bit aligns with the majority bit.\n",
    "\n",
    "## Check_Bursts Function\n",
    "\n",
    "---\n",
    "\n",
    "This function verifies if a certain type of burst occurs in the LFSR output sequence. A burst is defined as a specific pattern in the output, such as a sequence of zeros (`\"first\"` burst) or a repeated sequence of bits (`\"second\"` burst). The function constructs constraints based on the desired burst type, adds them to the solver, and checks if they are satisfiable.\n",
    "\n",
    "`Parameters:`  \n",
    "- `t`: Integer specifying the length of the burst pattern to check.\n",
    "- `states`: A list of dictionaries, each representing the symbolic state of the LFSRs at a given step.\n",
    "- `outputs`: A list of logical expressions representing the output bit at each time step.\n",
    "- `solver`: A `Solver` instance used to evaluate the constraints.\n",
    "- `burst_type`: (Optional) A string specifying the burst type to check. `\"first\"` checks for a burst of `t` consecutive zeros, while `\"second\"` checks for a repeated pattern of length `t`.\n",
    "\n",
    "`Returns:` A boolean indicating whether the burst type specified by `burst_type` is reachable within the sequence. If a burst is reachable, the function prints an example LFSR state leading to the burst pattern.\n"
   ],
   "id": "fbdff3f627c86602"
  },
  {
   "metadata": {
    "ExecuteTime": {
     "end_time": "2024-11-05T18:55:15.639139Z",
     "start_time": "2024-11-05T18:55:15.500259Z"
    }
   },
   "cell_type": "code",
   "source": [
    "from z3 import *\n",
    "\n",
    "R0MASK, R1MASK, R2MASK = 19, 22, 23\n",
    "\n",
    "cbit0, cbit1, cbit2 = 8, 10, 10\n",
    "\n",
    "S0 = BitVec('S0', R0MASK)\n",
    "S1 = BitVec('S1', R1MASK)\n",
    "S2 = BitVec('S2', R2MASK)\n",
    "\n",
    "\n",
    "def declare_state(i):\n",
    "\n",
    "    return {\n",
    "        'lfsr0': BitVec(f'lfsr0_{i}', R0MASK),\n",
    "        'lfsr1': BitVec(f'lfsr1_{i}', R1MASK),\n",
    "        'lfsr2': BitVec(f'lfsr2_{i}', R2MASK)\n",
    "    }\n",
    "\n",
    "\n",
    "def get_output(state):\n",
    "\n",
    "    return Extract(R0MASK - 1, R0MASK - 1, state['lfsr0']) ^ \\\n",
    "           Extract(R1MASK - 1, R1MASK - 1, state['lfsr1']) ^ \\\n",
    "           Extract(R2MASK - 1, R2MASK - 1, state['lfsr2'])\n",
    "\n",
    "\n",
    "def transition(curr, nxt):\n",
    "\n",
    "    c0 = Extract(cbit0, cbit0, curr['lfsr0'])\n",
    "    c1 = Extract(cbit1, cbit1, curr['lfsr1'])\n",
    "    c2 = Extract(cbit2, cbit2, curr['lfsr2'])\n",
    "    majority_bit = (c0 & c1) | (c1 & c2) | (c0 & c2)\n",
    "\n",
    "    # Transition conditions for each LFSR based on the majority bit\n",
    "    t0 = And(c0 == majority_bit, nxt['lfsr0'] == (curr['lfsr0'] << 1) ^ (curr['lfsr0'] ^ S0))\n",
    "    t1 = And(c1 == majority_bit, nxt['lfsr1'] == (curr['lfsr1'] << 1) ^ (curr['lfsr1'] ^ S1))\n",
    "    t2 = And(c2 == majority_bit, nxt['lfsr2'] == (curr['lfsr2'] << 1) ^ (curr['lfsr2'] ^ S2))\n",
    "\n",
    "    return Or(And(t0, t1), And(t0, t2), And(t1, t2), And(t0, t1, t2))\n",
    "\n",
    "\n",
    "def check_bursts(t, states, outputs, solver, burst_type=\"first\"):\n",
    "\n",
    "    max_steps = (1 << t) if burst_type == \"zero\" else (1 << (t // 2))\n",
    "    conditions = []\n",
    "\n",
    "    if burst_type == \"first\":\n",
    "        for i in range(max_steps - t + 1):\n",
    "            conditions.append(And([outputs[i + j] == 0 for j in range(t)]))\n",
    "    elif burst_type == \"second\":\n",
    "        for i in range(max_steps - t + 1):\n",
    "            for j in range(i + t, max_steps - t + 1):\n",
    "                conditions.append(And([outputs[i + k] == outputs[j + k] for k in range(t)]))\n",
    "    else:\n",
    "        pass\n",
    "\n",
    "    solver.add(Or(conditions))\n",
    "    result = solver.check() == sat\n",
    "\n",
    "    if result:\n",
    "        model = solver.model()\n",
    "        print(f\"\\nExample state leading to a {burst_type} burst:\")\n",
    "        for lfsr, mask in zip(['lfsr0', 'lfsr1', 'lfsr2'], [R0MASK, R1MASK, R2MASK]):\n",
    "            print(f\"\\t{lfsr}: {format(model[states[0][lfsr]].as_long(), f'0{mask}b')}\")\n",
    "    return result\n",
    "\n",
    "\n",
    "def bmc_always(t):\n",
    "    \n",
    "    max_steps = max(1 << t, 1 << (t // 2))\n",
    "\n",
    "    states = [declare_state(i) for i in range(max_steps)]\n",
    "    outputs = [get_output(state) for state in states]\n",
    "\n",
    "    solver = Solver()\n",
    "\n",
    "    for i in range(max_steps - 1):\n",
    "        solver.add(transition(states[i], states[i + 1]))\n",
    "\n",
    "    # Check for zero burst\n",
    "    solver.push()\n",
    "    zero_burst = check_bursts(t, states, outputs, solver, \"first\")\n",
    "    solver.pop()\n",
    "\n",
    "    # Check for repeated burst\n",
    "    solver.push()\n",
    "    repeat_burst = check_bursts(t, states, outputs, solver, \"second\")\n",
    "    solver.pop()\n",
    "\n",
    "    print(f\"\\nBurst analysis for initial arbitrary state:\")\n",
    "    print(f\"Burst of {t} consecutive zeros reachable within 2^{t} steps: {zero_burst}\")\n",
    "    print(f\"Repeated burst of length {t} reachable within 2^{t // 2} steps: {repeat_burst}\")\n",
    "\n",
    "\n",
    "bmc_always(4)"
   ],
   "id": "d14de1c68573b392",
   "outputs": [
    {
     "name": "stdout",
     "output_type": "stream",
     "text": [
      "\n",
      "Example state leading to a first burst:\n",
      "\tlfsr0: 0111011111111111111\n",
      "\tlfsr1: 1110010111010101110000\n",
      "\tlfsr2: 11011100011110011101111\n",
      "\n",
      "Burst analysis for initial arbitrary state:\n",
      "Burst of 4 consecutive zeros reachable within 2^4 steps: True\n",
      "Repeated burst of length 4 reachable within 2^2 steps: False\n"
     ]
    }
   ],
   "execution_count": 48
  },
  {
   "metadata": {},
   "cell_type": "markdown",
   "source": [
    "----\n",
    "\n",
    "## 2ª Implementação ????\n",
    "\n",
    "----"
   ],
   "id": "d8f4bb5f63fd28b7"
  },
  {
   "metadata": {
    "ExecuteTime": {
     "end_time": "2024-11-05T16:50:09.507185Z",
     "start_time": "2024-11-05T16:50:09.498741Z"
    }
   },
   "cell_type": "code",
   "source": [
    "# Masks for the three shift registers\n",
    "R1MASK = 0x07FFFF   # 19 bits, numbered 0..18 \n",
    "R2MASK = 0x3FFFFF   # 22 bits, numbered 0..21\n",
    "R3MASK = 0x7FFFFF   # 23 bits, numbered 0..22\n",
    "\n",
    "# Feedback taps, for clocking the shift registers.\n",
    "# These correspond to the primitive polynomials\n",
    "# x^19 + x^5 + x^2 + x + 1,\n",
    "# x^22 + x + 1,\n",
    "# and x^23 + x^15 + x^2 + x + 1.\n",
    "R1TAPS = 0x072000 # bits 18, 17, 16, 13\n",
    "R2TAPS = 0x300000 # bits 21, 20\n",
    "R3TAPS = 0x700080 # bits 22, 21, 20, 7"
   ],
   "id": "6b0d9b9aab901c93",
   "outputs": [],
   "execution_count": 254
  },
  {
   "metadata": {},
   "cell_type": "markdown",
   "source": [
    "### Clock_One Function\n",
    "\n",
    "----\n",
    "\n",
    "This function performs a single clock cycle on a shift register using linear feedback shift register (LFSR) logic. The register is advanced by one step, with feedback applied according to the polynomial defined by TAPS.\n",
    "\n",
    "`Parameters:`\n",
    "- `R:` The current state of the shift register as an integer.\n",
    "- `MASK:` A bitmask specifying the number of bits in the register. This ensures that only the allowed bits in the register are kept.\n",
    "- `TAPS:` Feedback taps for the LFSR, specified as a bitmask. Each bit set in TAPS indicates a feedback tap point in the polynomial.\n",
    "\n",
    "`Returns:` The updated state of the register after one clock cycle.\n",
    "\n"
   ],
   "id": "49627a7eadfee0ec"
  },
  {
   "metadata": {
    "ExecuteTime": {
     "end_time": "2024-11-05T16:50:10.654380Z",
     "start_time": "2024-11-05T16:50:10.649380Z"
    }
   },
   "cell_type": "code",
   "source": [
    "# Steps a shift register forward by one, based on feedback taps\n",
    "def clock_one(R, MASK, TAPS):\n",
    "    new_bit = 0\n",
    "    for i in range(23):  # Adjust to the largest number of bits (R3 has 23)\n",
    "        if (R & (1 << i)) != 0:\n",
    "            new_bit ^= (TAPS & (1 << i)) != 0\n",
    "    new_bit &= 1\n",
    "    R = ((R << 1) & MASK) | new_bit\n",
    "    return R"
   ],
   "id": "d388e233d70eeb50",
   "outputs": [],
   "execution_count": 255
  },
  {
   "metadata": {},
   "cell_type": "markdown",
   "source": [
    "### Generate_Key function\n",
    "\n",
    "----\n",
    "\n",
    "This function extracts certain bits from the current states of the three shift registers, R1, R2, and R3, to generate a key sequence.\n",
    "\n",
    "`Parameters:`\n",
    "- `R1:` The current state of the first register.\n",
    "- `R2:` The current state of the second register.\n",
    "- `R3:` The current state of the third register.\n",
    "\n",
    "`Returns:` A list of specific bits taken from the three registers, forming a key sequence."
   ],
   "id": "c8067ffa6095e31a"
  },
  {
   "metadata": {
    "ExecuteTime": {
     "end_time": "2024-11-05T16:50:11.630088Z",
     "start_time": "2024-11-05T16:50:11.623752Z"
    }
   },
   "cell_type": "code",
   "source": [
    "# Generate a key from the current states of the registers\n",
    "def generate_key(R1, R2, R3):\n",
    "    return [\n",
    "        R1 & 1,              # LSB of R1\n",
    "        (R1 >> 1) & 1,       # Bit 1 of R1\n",
    "        (R1 >> 2) & 1,       # Bit 2 of R1\n",
    "        (R2 >> 9) & 1,       # Bit 9 of R2\n",
    "        (R2 >> 10) & 1,      # Bit 10 of R2\n",
    "        (R3 >> 20) & 1,      # Bit 20 of R3\n",
    "        (R3 >> 21) & 1,      # Bit 21 of R3\n",
    "        (R3 >> 22) & 1       # MSB of R3\n",
    "    ] "
   ],
   "id": "5add5b8b0ea042e5",
   "outputs": [],
   "execution_count": 256
  },
  {
   "metadata": {},
   "cell_type": "markdown",
   "source": [
    "### Check_For_Zero_Burst fucntion\n",
    "\n",
    "----\n",
    "\n",
    "This function simulates the shift registers over a given number of steps and checks for a burst of consecutive zeros of length t within a sliding window of the last $2^t$ output bits.\n",
    "\n",
    "`Parameters:`\n",
    "\n",
    "- `steps:` The number of steps to simulate.\n",
    "- `t:` The target burst length (number of consecutive zeros) to detect.\n",
    "- `R1, R2, R3:` The initial states of the three shift registers.\n",
    "\n",
    "`Returns:` \n",
    "- A tuple (zero_burst, step) if a burst of zeros of length t is found, where zero_burst is the zero sequence found, and step is the step at which it was found.\n",
    "- None if no zero burst of the specified length is found within the given steps."
   ],
   "id": "274ed63b49a60f71"
  },
  {
   "metadata": {
    "ExecuteTime": {
     "end_time": "2024-11-05T16:50:12.761862Z",
     "start_time": "2024-11-05T16:50:12.753062Z"
    }
   },
   "cell_type": "code",
   "source": [
    "# Check for bursts of zeros of size t that occur within 2^t steps\n",
    "def check_for_zero_burst(steps, t, R1, R2, R3):\n",
    "    output_bits = []\n",
    "    step_limit_zero = 2 ** t\n",
    "    zero_burst = '0' * t  # Burst of t zeros\n",
    "\n",
    "    for step in range(steps):\n",
    "        key = generate_key(R1, R2, R3)\n",
    "        output_bits.extend(key)\n",
    "\n",
    "        # Clock the registers\n",
    "        R1, R2, R3 = clock_one(R1, R1MASK, R1TAPS), clock_one(R2, R2MASK, R2TAPS), clock_one(R3, R3MASK, R3TAPS)\n",
    "\n",
    "        # Check for burst of zeros of size t within the most recent 2^t bits\n",
    "        if ''.join(map(str, output_bits[-t:])) == zero_burst:\n",
    "            return zero_burst, step\n",
    "\n",
    "        # Limit output_bits length to the most recent step_limit_zero bits to save memory\n",
    "        if len(output_bits) > step_limit_zero + t:\n",
    "            output_bits = output_bits[-(step_limit_zero + t):]\n",
    "\n",
    "    return None\n"
   ],
   "id": "629d287090345b7d",
   "outputs": [],
   "execution_count": 257
  },
  {
   "metadata": {},
   "cell_type": "markdown",
   "source": [
    "### Check_For_Burst_Repetition function\n",
    "\n",
    "----\n",
    "\n",
    "This function checks for repeating bursts of bits of length t within a window of $2^{\\frac{t}{2}}$ steps. It looks for burst patterns that reappear within a shorter range than in check_for_zero_burst.\n",
    "\n",
    "`Parameters:`\n",
    "- `steps:` The number of steps to simulate.\n",
    "- `t:` The target burst length to detect for repetitions.\n",
    "- `R1, R2, R3:` The initial states of the three shift registers.\n",
    "\n",
    "`Returns:`\n",
    "- A tuple (burst, first_step, second_step) if a repeating burst is found, where burst is the repeated sequence, first_step is the first occurrence, and second_step is the second occurrence within the required range.\n",
    "- None if no repeating burst of the specified length is found within the given steps.\n"
   ],
   "id": "b4cb2e41983669f4"
  },
  {
   "metadata": {
    "ExecuteTime": {
     "end_time": "2024-11-05T16:50:14.971062Z",
     "start_time": "2024-11-05T16:50:14.964249Z"
    }
   },
   "cell_type": "code",
   "source": [
    "# Check for bursts of size t that repeat within 2^(t/2) steps\n",
    "def check_for_burst_repetition(steps, t, R1, R2, R3):\n",
    "    output_bits = []\n",
    "    burst_dict = {}\n",
    "    step_limit_repetition = 2 ** (t // 2)\n",
    "\n",
    "    for step in range(steps):\n",
    "        key = generate_key(R1, R2, R3)\n",
    "        output_bits.extend(key)\n",
    "\n",
    "        # Clock the registers\n",
    "        R1, R2, R3 = clock_one(R1, R1MASK, R1TAPS), clock_one(R2, R2MASK, R2TAPS), clock_one(R3, R3MASK, R3TAPS)\n",
    "\n",
    "        # Get the last t bits as a burst\n",
    "        burst = ''.join(map(str, output_bits[-t:]))\n",
    "\n",
    "        # Check if burst is in the dictionary and within the required steps\n",
    "        if burst in burst_dict:\n",
    "            previous_step = burst_dict[burst]\n",
    "            if step - previous_step <= step_limit_repetition:\n",
    "                return burst, previous_step, step\n",
    "        burst_dict[burst] = step\n",
    "\n",
    "        # Limit output_bits length to recent 2^(t/2) bursts to save memory\n",
    "        if len(output_bits) > step_limit_repetition + t:\n",
    "            output_bits = output_bits[-(step_limit_repetition + t):]\n",
    "\n",
    "    return None"
   ],
   "id": "cd3796ebf889be0c",
   "outputs": [],
   "execution_count": 258
  },
  {
   "metadata": {},
   "cell_type": "markdown",
   "source": [
    "## Exemplos\n",
    "\n",
    "----"
   ],
   "id": "c9e313978dbbd27f"
  },
  {
   "metadata": {
    "ExecuteTime": {
     "end_time": "2024-11-04T16:39:15.598095Z",
     "start_time": "2024-11-04T16:39:15.578105Z"
    }
   },
   "cell_type": "code",
   "source": [
    "# Function to verify burst properties using Z3 \n",
    "def solve_burst_properties(t):\n",
    "    # Create the state variables\n",
    "    R1 = BitVec('R1', 19)\n",
    "    R2 = BitVec('R2', 22)\n",
    "    R3 = BitVec('R3', 23)\n",
    "\n",
    "    # Initialize registers with random non-zero values\n",
    "    initial_R1 = randint(1, R1MASK)\n",
    "    initial_R2 = randint(1, R2MASK)\n",
    "    initial_R3 = randint(1, R3MASK)\n",
    "\n",
    "    # Define the solver and add constraints for initial non-zero state\n",
    "    solver = Solver()\n",
    "    solver.add(R1 == initial_R1, R2 == initial_R2, R3 == initial_R3)\n",
    "    solver.add(And(R1 != 0, R2 != 0, R3 != 0))\n",
    "\n",
    "    # Check if properties are reachable\n",
    "    if solver.check() == sat:\n",
    "        model = solver.model()\n",
    "        print('\\x1b[6;30;42m' + \"Properties are reachable from the initial state:\" + '\\x1b[0m')\n",
    "        print(f\"R1: {model[R1]}, R2: {model[R2]}, R3: {model[R3]}\")\n",
    "        \n",
    "        # Generate and print the key\n",
    "        key = generate_key(model[R1].as_long(), model[R2].as_long(), model[R3].as_long())\n",
    "        print(\"Generated Key:\", ''.join(map(str, key)))\n",
    "\n",
    "        # Check for bursts of zeros\n",
    "        # steps = 1000\n",
    "        steps = 2^t \n",
    "        result = check_for_zero_burst(steps, t, model[R1].as_long(), model[R2].as_long(), model[R3].as_long())\n",
    "        \n",
    "        if result:\n",
    "            zero_burst, found_step = result\n",
    "            print(f\"A burst of zeros of size {t} was found within {2**t} steps: {zero_burst}.\")\n",
    "            print(f\"It was found at step {found_step}.\")\n",
    "        else:\n",
    "            print(f\"No repeating burst of zeros of size {t} was found within {2**t} steps.\")\n",
    "\n",
    "        steps = 2^(t//2) \n",
    "\n",
    "        # Check for bursts of repetition\n",
    "        found_burst_info = check_for_burst_repetition(steps, t, model[R1].as_long(), model[R2].as_long(), model[R3].as_long())\n",
    "        \n",
    "        if found_burst_info:\n",
    "            burst, first_step, second_step = found_burst_info\n",
    "            print(f\"A burst of size {t} was found that repeats within {2**(t//2)} steps: {burst}.\")\n",
    "            print(f\"It was found at steps {first_step} and {second_step}.\")\n",
    "        else:\n",
    "            print(f\"No repeating burst of size {t} was found within {2**(t//2)} steps.\")\n",
    "    else:\n",
    "        print(\"Properties are NOT reachable\")\n"
   ],
   "id": "8c4a6400f47eb6e0",
   "outputs": [],
   "execution_count": 7
  },
  {
   "metadata": {},
   "cell_type": "markdown",
   "source": [
    "### Exemplo 1\n",
    "\n",
    "----\n",
    "\n",
    "<div class=\"alert alert-block alert-info\">\n",
    "    <b>Caracteristicas: </b> \n",
    "         \n",
    "       R1, R2, R3 = randint(1, RMASK)\n",
    "       t = 3\n",
    "              \n",
    "</div>\n"
   ],
   "id": "bb4d6f4466e794e9"
  },
  {
   "metadata": {
    "ExecuteTime": {
     "end_time": "2024-11-04T16:39:51.870230Z",
     "start_time": "2024-11-04T16:39:51.828295Z"
    }
   },
   "cell_type": "code",
   "source": "solve_burst_properties(t=3)",
   "id": "fecd46a09b3f11a",
   "outputs": [
    {
     "name": "stdout",
     "output_type": "stream",
     "text": [
      "\u001B[6;30;42mProperties are reachable from the initial state:\u001B[0m\n",
      "R1: 247989, R2: 1181177, R3: 179176\n",
      "Generated Key: 10101000\n",
      "A burst of zeros of size 3 was found within 8 steps: 000.\n",
      "It was found at step 0.\n",
      "A burst of size 3 was found that repeats within 2 steps: 000.\n",
      "It was found at steps 0 and 1.\n"
     ]
    }
   ],
   "execution_count": 12
  },
  {
   "metadata": {},
   "cell_type": "markdown",
   "source": [
    "### Exemplo 2\n",
    "\n",
    "----\n",
    "\n",
    "<div class=\"alert alert-block alert-info\">\n",
    "    <b>Caracteristicas: </b> \n",
    "          \n",
    "       R1, R2, R3 = randint(1, RMASK)\n",
    "       t = 15\n",
    "         \n",
    "</div>\n"
   ],
   "id": "f9c8da50bce84133"
  },
  {
   "metadata": {
    "ExecuteTime": {
     "end_time": "2024-11-02T10:54:41.090156Z",
     "start_time": "2024-11-02T10:54:41.070653Z"
    }
   },
   "cell_type": "code",
   "source": "solve_burst_properties(t=15)",
   "id": "b8a9c38cc2caf045",
   "outputs": [
    {
     "name": "stdout",
     "output_type": "stream",
     "text": [
      "\u001B[6;30;42mProperties are reachable from the initial state:\u001B[0m\n",
      "R1: 481131, R2: 2989596, R3: 4742438\n",
      "Generated Key: 11011001\n",
      "No repeating burst of zeros of size 15 was found within 32768 steps.\n",
      "No repeating burst of size 15 was found within 128 steps.\n"
     ]
    }
   ],
   "execution_count": 153
  },
  {
   "metadata": {},
   "cell_type": "markdown",
   "source": [
    "### Exemplo 3\n",
    "\n",
    "----\n",
    "\n",
    "<div class=\"alert alert-block alert-info\">\n",
    "    <b>Caracteristicas: </b> \n",
    "          \n",
    "       R1 == 0b1010101010101010101, equivalente a 349525 \n",
    "       R2 == 0b1100110011001100110011, equivalente a 3355443\n",
    "       R3 == 0b11111111111111111111111, equivalente a 8388607\n",
    "       t = 2\n",
    "           \n",
    "</div>\n"
   ],
   "id": "2d08aadf9832494e"
  },
  {
   "metadata": {
    "ExecuteTime": {
     "end_time": "2024-11-02T10:54:41.495776Z",
     "start_time": "2024-11-02T10:54:41.489873Z"
    }
   },
   "cell_type": "code",
   "source": [
    "# Function to verify burst properties using Z3\n",
    "def solve_burst_properties(t):\n",
    "    # Create the state variables\n",
    "    R1 = BitVec('R1', 19)\n",
    "    R2 = BitVec('R2', 22)\n",
    "    R3 = BitVec('R3', 23)\n",
    "\n",
    "    # Initialize registers with specific pattern values\n",
    "    solver = Solver()\n",
    "    solver.add(R1 == 0b1010101010101010101, R2 == 0b1100110011001100110011, R3 == 0b11111111111111111111111) \n",
    "\n",
    "    # Check properties: verify output patterns\n",
    "    solver.add(And(R1 != 0, R2 != 0, R3 != 0))\n",
    "\n",
    "    # Check if properties are reachable\n",
    "    if solver.check() == sat:\n",
    "        model = solver.model()\n",
    "        print('\\x1b[6;30;42m' + \"Properties are reachable from the initial state:\" + '\\x1b[0m')\n",
    "        print(f\"R1: {model[R1]}, R2: {model[R2]}, R3: {model[R3]}\")\n",
    "        \n",
    "        # Generate and print the key\n",
    "        key = generate_key(model[R1].as_long(), model[R2].as_long(), model[R3].as_long())\n",
    "        print(\"Generated Key:\", ''.join(map(str, key)))\n",
    "\n",
    "        # Check for bursts of zeros\n",
    "        steps = 2^(t)\n",
    "        result = check_for_zero_burst(steps, t, model[R1].as_long(), model[R2].as_long(), model[R3].as_long())\n",
    "        \n",
    "        if result:\n",
    "            zero_burst, found_step = result\n",
    "            print(f\"A burst of zeros of size {t} was found within {2**t} steps: {zero_burst}.\")\n",
    "            print(f\"It was found at step {found_step}.\")\n",
    "        else:\n",
    "            print(f\"No repeating burst of zeros of size {t} was found within {2**t} steps.\")\n",
    "\n",
    "        steps = 2^(t//2)\n",
    "        \n",
    "        # Check for bursts of repetition\n",
    "        found_burst_info = check_for_burst_repetition(steps, t, model[R1].as_long(), model[R2].as_long(), model[R3].as_long())\n",
    "        \n",
    "        if found_burst_info:\n",
    "            burst, first_step, second_step = found_burst_info\n",
    "            print(f\"A burst of size {t} was found that repeats within {2**(t//2)} steps: {burst}.\")\n",
    "            print(f\"It was found at steps {first_step} and {second_step}.\")\n",
    "        else:\n",
    "            print(f\"No repeating burst of size {t} was found within {2**(t//2)} steps.\")\n",
    "    else:\n",
    "        print(\"Properties are NOT reachable\")"
   ],
   "id": "3d2f24fb2f45de5e",
   "outputs": [],
   "execution_count": 154
  },
  {
   "metadata": {
    "ExecuteTime": {
     "end_time": "2024-11-02T10:54:41.711310Z",
     "start_time": "2024-11-02T10:54:41.690552Z"
    }
   },
   "cell_type": "code",
   "source": "solve_burst_properties(t=2)",
   "id": "7de096561047843e",
   "outputs": [
    {
     "name": "stdout",
     "output_type": "stream",
     "text": [
      "\u001B[6;30;42mProperties are reachable from the initial state:\u001B[0m\n",
      "R1: 349525, R2: 3355443, R3: 8388607\n",
      "Generated Key: 10110111\n",
      "No repeating burst of zeros of size 2 was found within 4 steps.\n",
      "A burst of size 2 was found that repeats within 2 steps: 11.\n",
      "It was found at steps 0 and 1.\n"
     ]
    }
   ],
   "execution_count": 155
  },
  {
   "metadata": {},
   "cell_type": "markdown",
   "source": [
    "### Exemplo 4\n",
    "\n",
    "----\n",
    "\n",
    "<div class=\"alert alert-block alert-info\">\n",
    "    <b>Caracteristicas: </b> \n",
    "         \n",
    "       R1 == 0b0000000000000000000, equivalente a 0 \n",
    "       R2 == 0b1100110011001100110011, equivalente a 3355443\n",
    "       R3 == 0b11111111111111111111111, equivalente a 8388607\n",
    "       t = 4\n",
    "             \n",
    "</div>\n"
   ],
   "id": "fdb94ee84785aecf"
  },
  {
   "metadata": {
    "ExecuteTime": {
     "end_time": "2024-11-02T10:54:42.294210Z",
     "start_time": "2024-11-02T10:54:42.286574Z"
    }
   },
   "cell_type": "code",
   "source": [
    "# Function to verify burst properties using Z3\n",
    "def solve_burst_properties(t):\n",
    "    # Create the state variables\n",
    "    R1 = BitVec('R1', 19)\n",
    "    R2 = BitVec('R2', 22)\n",
    "    R3 = BitVec('R3', 23)\n",
    "\n",
    "    # Initialize registers with specific pattern values\n",
    "    solver = Solver()\n",
    "    solver.add(R1 == 0b0000000000000000000, R2 == 0b1100110011001100110011, R3 == 0b11111111111111111111111) \n",
    "\n",
    "    # Check properties: verify output patterns\n",
    "    solver.add(And(R1 != 0, R2 != 0, R3 != 0))\n",
    "\n",
    "     # Check if properties are reachable\n",
    "    if solver.check() == sat:\n",
    "        model = solver.model()\n",
    "        print('\\x1b[6;30;42m' + \"Properties are reachable from the initial state:\" + '\\x1b[0m')\n",
    "        print(f\"R1: {model[R1]}, R2: {model[R2]}, R3: {model[R3]}\")\n",
    "        \n",
    "        # Generate and print the key\n",
    "        key = generate_key(model[R1].as_long(), model[R2].as_long(), model[R3].as_long())\n",
    "        print(\"Generated Key:\", ''.join(map(str, key)))\n",
    "\n",
    "        # Check for bursts of zeros\n",
    "        steps = 2^(t)\n",
    "        result = check_for_zero_burst(steps, t, model[R1].as_long(), model[R2].as_long(), model[R3].as_long())\n",
    "        \n",
    "        if result:\n",
    "            zero_burst, found_step = result\n",
    "            print(f\"A burst of zeros of size {t} was found within {2**t} steps: {zero_burst}.\")\n",
    "            print(f\"It was found at step {found_step}.\")\n",
    "        else:\n",
    "            print(f\"No repeating burst of zeros of size {t} was found within {2**t} steps.\")\n",
    "\n",
    "        steps = 2^(t//2)\n",
    "        \n",
    "        # Check for bursts of repetition\n",
    "        found_burst_info = check_for_burst_repetition(steps, t, model[R1].as_long(), model[R2].as_long(), model[R3].as_long())\n",
    "        \n",
    "        if found_burst_info:\n",
    "            burst, first_step, second_step = found_burst_info\n",
    "            print(f\"A burst of size {t} was found that repeats within {2**(t//2)} steps: {burst}.\")\n",
    "            print(f\"It was found at steps {first_step} and {second_step}.\")\n",
    "        else:\n",
    "            print(f\"No repeating burst of size {t} was found within {2**(t//2)} steps.\")\n",
    "    else:\n",
    "        print('\\x1b[6;30;41m' + \"Properties are NOT reachable\" + '\\x1b[0m')"
   ],
   "id": "acb892acbb1d5899",
   "outputs": [],
   "execution_count": 156
  },
  {
   "metadata": {
    "ExecuteTime": {
     "end_time": "2024-11-02T10:54:42.761443Z",
     "start_time": "2024-11-02T10:54:42.741910Z"
    }
   },
   "cell_type": "code",
   "source": "solve_burst_properties(t=4)",
   "id": "6d61846c388a083c",
   "outputs": [
    {
     "name": "stdout",
     "output_type": "stream",
     "text": [
      "\u001B[6;30;41mProperties are NOT reachable\u001B[0m\n"
     ]
    }
   ],
   "execution_count": 157
  }
 ],
 "metadata": {
  "kernelspec": {
   "display_name": "Python 3",
   "language": "python",
   "name": "python3"
  },
  "language_info": {
   "codemirror_mode": {
    "name": "ipython",
    "version": 2
   },
   "file_extension": ".py",
   "mimetype": "text/x-python",
   "name": "python",
   "nbconvert_exporter": "python",
   "pygments_lexer": "ipython2",
   "version": "2.7.6"
  }
 },
 "nbformat": 4,
 "nbformat_minor": 5
}
